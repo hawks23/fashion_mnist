{
  "nbformat": 4,
  "nbformat_minor": 0,
  "metadata": {
    "colab": {
      "provenance": [],
      "gpuType": "T4"
    },
    "kernelspec": {
      "name": "python3",
      "display_name": "Python 3"
    },
    "language_info": {
      "name": "python"
    },
    "accelerator": "GPU"
  },
  "cells": [
    {
      "cell_type": "markdown",
      "source": [
        "### Building an ANN"
      ],
      "metadata": {
        "id": "6MaQuCgMunvi"
      }
    },
    {
      "cell_type": "markdown",
      "source": [
        "### Input is MNIST Fashion dataset, to classify fashion articles. 28x28 pictures.\n",
        "\n",
        "### 4 layers, 1 input layer (784), 2 hidden layers(128 and 64) and 1 output layer (10)"
      ],
      "metadata": {
        "id": "BEPe2p5aur6Y"
      }
    },
    {
      "cell_type": "code",
      "source": [
        "import pandas as pd\n",
        "from sklearn.model_selection import train_test_split\n",
        "import torch\n",
        "from torch.utils.data import Dataset, DataLoader\n",
        "import torch.nn as nn\n",
        "import torch.optim as optim\n",
        "import matplotlib.pyplot as plt"
      ],
      "metadata": {
        "id": "PXZeiyJ6xG6F"
      },
      "execution_count": 1,
      "outputs": []
    },
    {
      "cell_type": "code",
      "source": [
        "torch.manual_seed(42)"
      ],
      "metadata": {
        "colab": {
          "base_uri": "https://localhost:8080/"
        },
        "id": "jqEhtnnRxcmd",
        "outputId": "bf6fd5eb-bfe6-4165-85f4-7322f32f1de0"
      },
      "execution_count": 2,
      "outputs": [
        {
          "output_type": "execute_result",
          "data": {
            "text/plain": [
              "<torch._C.Generator at 0x7b3829918c30>"
            ]
          },
          "metadata": {},
          "execution_count": 2
        }
      ]
    },
    {
      "cell_type": "code",
      "source": [
        "device = torch.device(\"cuda\" if torch.cuda.is_available() else \"cpu\")"
      ],
      "metadata": {
        "id": "7pGnN5mMDyKR"
      },
      "execution_count": 3,
      "outputs": []
    },
    {
      "cell_type": "code",
      "metadata": {
        "colab": {
          "base_uri": "https://localhost:8080/"
        },
        "id": "ff0a955a",
        "outputId": "37d8b060-1bdb-4496-c743-9a622d57c434"
      },
      "source": [
        "import zipfile\n",
        "import os\n",
        "\n",
        "file_path = \"/content/archive.zip\"\n",
        "output_dir = \"/content/\"\n",
        "\n",
        "os.makedirs(output_dir, exist_ok=True)\n",
        "\n",
        "with zipfile.ZipFile(file_path, 'r') as zip_ref:\n",
        "    zip_ref.extractall(output_dir)\n",
        "\n",
        "print(f\"File extracted to {output_dir}\")"
      ],
      "execution_count": 5,
      "outputs": [
        {
          "output_type": "stream",
          "name": "stdout",
          "text": [
            "File extracted to /content/\n"
          ]
        }
      ]
    },
    {
      "cell_type": "code",
      "source": [
        "df = pd.read_csv(\"/content/fashion-mnist_train.csv\")"
      ],
      "metadata": {
        "id": "lseZZlbyxigE"
      },
      "execution_count": 6,
      "outputs": []
    },
    {
      "cell_type": "code",
      "source": [
        "df.shape"
      ],
      "metadata": {
        "colab": {
          "base_uri": "https://localhost:8080/"
        },
        "id": "twnea0yHxobF",
        "outputId": "c2241e5e-602f-4fe4-ded9-046941fbdbd5"
      },
      "execution_count": 7,
      "outputs": [
        {
          "output_type": "execute_result",
          "data": {
            "text/plain": [
              "(60000, 785)"
            ]
          },
          "metadata": {},
          "execution_count": 7
        }
      ]
    },
    {
      "cell_type": "code",
      "source": [
        "# df = df.sample(n=6000, random_state=42)"
      ],
      "metadata": {
        "id": "JKQlOwlIxzn0"
      },
      "execution_count": null,
      "outputs": []
    },
    {
      "cell_type": "code",
      "source": [
        "import matplotlib.pyplot as plt\n",
        "import numpy as np\n",
        "\n",
        "# Select 8 random indices\n",
        "random_indices = np.random.choice(df.index, size=8, replace=False)\n",
        "\n",
        "# Get the images and labels for the selected indices\n",
        "random_images = df.loc[random_indices, df.columns != 'label'].values\n",
        "random_labels = df.loc[random_indices, 'label'].values\n",
        "\n",
        "# Reshape the images to 28x28\n",
        "random_images = random_images.reshape(-1, 28, 28)\n",
        "\n",
        "# Display the images\n",
        "plt.figure(figsize=(12, 6))\n",
        "for i in range(8):\n",
        "    plt.subplot(2, 4, i + 1)\n",
        "    plt.imshow(random_images[i], cmap='gray')\n",
        "    plt.title(f\"Label: {random_labels[i]}\")\n",
        "    plt.axis('off')\n",
        "plt.tight_layout()\n",
        "plt.show()"
      ],
      "metadata": {
        "colab": {
          "base_uri": "https://localhost:8080/",
          "height": 610
        },
        "id": "QWs4QDqEyaFk",
        "outputId": "d72d9431-c9a6-460f-8d6e-2045e0ad988e"
      },
      "execution_count": 8,
      "outputs": [
        {
          "output_type": "display_data",
          "data": {
            "text/plain": [
              "<Figure size 1200x600 with 8 Axes>"
            ],
            "image/png": "[encoded data removed]"
          },
          "metadata": {}
        }
      ]
    },
    {
      "cell_type": "code",
      "source": [
        "display(df['label'].value_counts().sort_index())"
      ],
      "metadata": {
        "colab": {
          "base_uri": "https://localhost:8080/",
          "height": 429
        },
        "id": "kDhivFHmynsU",
        "outputId": "cf95a544-f82c-4971-e9c9-e006fa9d8b7f"
      },
      "execution_count": 9,
      "outputs": [
        {
          "output_type": "display_data",
          "data": {
            "text/plain": [
              "label\n",
              "0    6000\n",
              "1    6000\n",
              "2    6000\n",
              "3    6000\n",
              "4    6000\n",
              "5    6000\n",
              "6    6000\n",
              "7    6000\n",
              "8    6000\n",
              "9    6000\n",
              "Name: count, dtype: int64"
            ],
            "text/html": [
              "<div>\n",
              "<style scoped>\n",
              "    .dataframe tbody tr th:only-of-type {\n",
              "        vertical-align: middle;\n",
              "    }\n",
              "\n",
              "    .dataframe tbody tr th {\n",
              "        vertical-align: top;\n",
              "    }\n",
              "\n",
              "    .dataframe thead th {\n",
              "        text-align: right;\n",
              "    }\n",
              "</style>\n",
              "<table border=\"1\" class=\"dataframe\">\n",
              "  <thead>\n",
              "    <tr style=\"text-align: right;\">\n",
              "      <th></th>\n",
              "      <th>count</th>\n",
              "    </tr>\n",
              "    <tr>\n",
              "      <th>label</th>\n",
              "      <th></th>\n",
              "    </tr>\n",
              "  </thead>\n",
              "  <tbody>\n",
              "    <tr>\n",
              "      <th>0</th>\n",
              "      <td>6000</td>\n",
              "    </tr>\n",
              "    <tr>\n",
              "      <th>1</th>\n",
              "      <td>6000</td>\n",
              "    </tr>\n",
              "    <tr>\n",
              "      <th>2</th>\n",
              "      <td>6000</td>\n",
              "    </tr>\n",
              "    <tr>\n",
              "      <th>3</th>\n",
              "      <td>6000</td>\n",
              "    </tr>\n",
              "    <tr>\n",
              "      <th>4</th>\n",
              "      <td>6000</td>\n",
              "    </tr>\n",
              "    <tr>\n",
              "      <th>5</th>\n",
              "      <td>6000</td>\n",
              "    </tr>\n",
              "    <tr>\n",
              "      <th>6</th>\n",
              "      <td>6000</td>\n",
              "    </tr>\n",
              "    <tr>\n",
              "      <th>7</th>\n",
              "      <td>6000</td>\n",
              "    </tr>\n",
              "    <tr>\n",
              "      <th>8</th>\n",
              "      <td>6000</td>\n",
              "    </tr>\n",
              "    <tr>\n",
              "      <th>9</th>\n",
              "      <td>6000</td>\n",
              "    </tr>\n",
              "  </tbody>\n",
              "</table>\n",
              "</div><br><label><b>dtype:</b> int64</label>"
            ]
          },
          "metadata": {}
        }
      ]
    },
    {
      "cell_type": "code",
      "source": [
        "# test train split\n",
        "\n",
        "x = df.iloc[:, 1:].values\n",
        "y = df.iloc[:, 0].values\n",
        "\n",
        "x_train, x_test, y_train, y_test = train_test_split(x, y, test_size=0.2, random_state=42)"
      ],
      "metadata": {
        "id": "ilfcH3kk9H3e"
      },
      "execution_count": 10,
      "outputs": []
    },
    {
      "cell_type": "code",
      "source": [
        "# scaling\n",
        "\n",
        "x_train = x_train/255.0\n",
        "x_test = x_test/255.0"
      ],
      "metadata": {
        "id": "L_VMQ-pp_K-b"
      },
      "execution_count": 11,
      "outputs": []
    },
    {
      "cell_type": "code",
      "source": [
        "# create customdataset class\n",
        "\n",
        "class CustomDataset(Dataset):\n",
        "\n",
        "  def __init__(self, features, labels):\n",
        "    self.features = torch.tensor(features,dtype=torch.float32)\n",
        "    self.labels = torch.tensor(labels,dtype=torch.long)\n",
        "\n",
        "  def __len__(self):\n",
        "    return len(self.features)\n",
        "\n",
        "  def __getitem__(self, index):\n",
        "    return self.features[index], self.labels[index]"
      ],
      "metadata": {
        "id": "2C4qDwIS_zHK"
      },
      "execution_count": 12,
      "outputs": []
    },
    {
      "cell_type": "code",
      "source": [
        "# create train_dataset object\n",
        "\n",
        "train_dataset = CustomDataset(x_train, y_train)"
      ],
      "metadata": {
        "id": "eMrpCs_oB7vx"
      },
      "execution_count": 13,
      "outputs": []
    },
    {
      "cell_type": "code",
      "source": [
        "len(train_dataset)\n",
        "train_dataset[1]"
      ],
      "metadata": {
        "colab": {
          "base_uri": "https://localhost:8080/"
        },
        "id": "bywHOWFECCjx",
        "outputId": "6662506e-92fc-4be5-9cf2-bc3aeb1c0eb8"
      },
      "execution_count": 14,
      "outputs": [
        {
          "output_type": "execute_result",
          "data": {
            "text/plain": [
              "(tensor([0.0000, 0.0000, 0.0000, 0.0000, 0.0000, 0.0000, 0.0000, 0.0000, 0.0000,\n",
              "         0.0000, 0.0000, 0.0000, 0.0000, 0.0000, 0.0000, 0.0000, 0.0000, 0.0000,\n",
              "         0.0000, 0.0000, 0.0000, 0.0000, 0.0000, 0.0000, 0.0000, 0.0000, 0.0000,\n",
              "         0.0000, 0.0000, 0.0000, 0.0000, 0.0000, 0.0000, 0.0000, 0.0000, 0.0000,\n",
              "         0.0000, 0.0000, 0.0000, 0.0000, 0.0000, 0.0000, 0.0000, 0.0000, 0.0000,\n",
              "         0.0000, 0.0000, 0.0000, 0.0000, 0.0000, 0.0000, 0.0000, 0.0000, 0.0000,\n",
              "         0.0000, 0.0000, 0.0000, 0.0000, 0.0000, 0.0000, 0.0000, 0.0000, 0.0000,\n",
              "         0.0000, 0.0000, 0.0000, 0.0000, 0.0000, 0.0000, 0.0000, 0.0000, 0.0000,\n",
              "         0.0000, 0.0000, 0.0000, 0.0000, 0.0000, 0.0000, 0.0000, 0.0000, 0.0000,\n",
              "         0.0000, 0.0000, 0.0000, 0.0000, 0.0000, 0.0000, 0.0000, 0.0000, 0.0000,\n",
              "         0.0000, 0.0000, 0.0000, 0.0000, 0.0000, 0.0000, 0.0000, 0.0000, 0.0000,\n",
              "         0.0000, 0.0000, 0.0000, 0.0000, 0.0000, 0.0000, 0.0000, 0.0000, 0.0000,\n",
              "         0.0000, 0.0000, 0.0000, 0.0000, 0.0000, 0.0000, 0.0000, 0.0000, 0.0000,\n",
              "         0.0000, 0.0000, 0.0000, 0.0000, 0.0000, 0.0000, 0.0000, 0.0000, 0.0000,\n",
              "         0.0000, 0.0000, 0.0000, 0.0000, 0.0000, 0.0000, 0.0000, 0.0000, 0.0000,\n",
              "         0.0000, 0.0000, 0.0000, 0.0000, 0.0000, 0.0000, 0.0000, 0.0000, 0.0000,\n",
              "         0.0000, 0.0000, 0.0000, 0.0000, 0.0000, 0.0000, 0.0000, 0.0000, 0.0000,\n",
              "         0.0000, 0.0000, 0.0000, 0.0000, 0.0000, 0.0000, 0.0000, 0.0000, 0.0000,\n",
              "         0.0000, 0.0000, 0.0000, 0.0000, 0.0000, 0.0000, 0.0000, 0.0000, 0.0000,\n",
              "         0.0000, 0.0000, 0.0000, 0.0000, 0.0000, 0.0000, 0.0000, 0.0000, 0.0000,\n",
              "         0.0000, 0.0000, 0.0000, 0.0000, 0.0000, 0.0000, 0.0000, 0.0000, 0.0000,\n",
              "         0.0000, 0.0000, 0.0000, 0.0000, 0.0000, 0.0000, 0.0000, 0.0000, 0.0000,\n",
              "         0.0000, 0.0000, 0.0000, 0.0000, 0.0000, 0.0000, 0.0000, 0.0000, 0.0000,\n",
              "         0.0000, 0.0000, 0.0000, 0.0000, 0.0000, 0.0000, 0.0000, 0.0000, 0.0000,\n",
              "         0.0000, 0.0000, 0.0000, 0.0000, 0.0000, 0.0000, 0.0000, 0.0000, 0.0000,\n",
              "         0.0000, 0.0000, 0.0000, 0.0000, 0.0000, 0.0000, 0.0000, 0.0000, 0.0000,\n",
              "         0.0039, 0.0000, 0.0000, 0.0039, 0.0000, 0.0000, 0.0000, 0.0000, 0.0000,\n",
              "         0.0000, 0.0000, 0.0000, 0.0000, 0.0000, 0.0000, 0.0000, 0.0039, 0.0000,\n",
              "         0.0000, 0.0000, 0.0000, 0.0000, 0.0000, 0.0000, 0.0000, 0.0000, 0.0000,\n",
              "         0.0000, 0.0000, 0.0000, 0.0000, 0.0000, 0.0000, 0.0000, 0.3255, 0.4510,\n",
              "         0.0000, 0.0000, 0.0000, 0.0000, 0.0000, 0.0000, 0.0353, 0.0431, 0.0039,\n",
              "         0.0000, 0.0000, 0.0000, 0.0000, 0.0000, 0.0000, 0.0000, 0.0000, 0.0000,\n",
              "         0.0000, 0.0000, 0.0000, 0.0000, 0.0000, 0.0000, 0.6196, 0.7098, 0.7451,\n",
              "         0.7961, 0.0000, 0.0000, 0.0078, 0.0157, 0.0000, 0.0000, 0.0000, 0.0000,\n",
              "         0.0000, 0.0000, 0.0000, 0.0000, 0.0000, 0.0000, 0.0000, 0.0000, 0.0000,\n",
              "         0.0000, 0.0000, 0.0000, 0.0000, 0.0000, 0.2510, 0.9451, 0.7294, 0.6863,\n",
              "         0.7333, 0.8471, 0.0235, 0.0000, 0.0000, 0.0000, 0.0000, 0.0000, 0.2196,\n",
              "         0.5333, 0.0000, 0.0000, 0.0000, 0.0039, 0.0235, 0.0157, 0.0039, 0.0078,\n",
              "         0.0078, 0.0000, 0.0000, 0.0000, 0.0000, 0.5490, 0.8471, 0.7176, 0.7059,\n",
              "         0.7882, 0.7059, 0.7608, 0.9098, 0.5451, 0.2784, 0.4078, 0.7490, 0.8431,\n",
              "         0.9294, 0.9098, 0.4627, 0.0000, 0.0157, 0.0000, 0.0000, 0.0000, 0.0000,\n",
              "         0.0000, 0.0000, 0.0000, 0.0471, 0.4353, 0.8353, 0.7569, 0.7255, 0.7373,\n",
              "         0.8118, 0.7686, 0.8353, 0.8118, 0.8314, 0.9098, 0.9255, 0.9451, 0.9059,\n",
              "         0.8471, 0.8118, 0.8667, 0.9020, 0.0000, 0.0000, 0.0000, 0.1647, 0.0745,\n",
              "         0.0235, 0.0118, 0.0667, 0.5882, 0.8039, 0.7804, 0.7373, 0.7804, 0.7059,\n",
              "         0.7098, 0.8235, 0.7490, 0.7059, 0.8745, 0.9373, 0.8667, 0.8627, 0.8431,\n",
              "         0.8627, 0.8863, 0.8824, 0.8000, 0.8588, 0.1216, 0.0000, 0.4196, 0.7490,\n",
              "         0.7490, 0.7294, 0.6824, 0.7255, 0.7765, 0.7451, 0.6980, 0.6863, 0.5843,\n",
              "         0.7137, 0.7961, 0.7098, 0.7725, 0.7569, 0.6745, 0.7922, 0.9059, 0.9176,\n",
              "         1.0000, 0.9216, 0.9020, 0.8196, 0.8039, 0.8980, 0.2980, 0.1725, 0.5020,\n",
              "         0.4510, 0.5569, 0.6431, 0.7294, 0.6627, 0.6902, 0.8196, 0.7804, 0.7608,\n",
              "         0.7569, 0.7490, 0.7882, 0.8667, 0.9451, 0.9647, 0.9176, 0.8627, 0.8980,\n",
              "         0.9412, 1.0000, 0.9373, 0.9529, 0.9922, 0.8824, 0.9922, 0.2824, 0.0863,\n",
              "         0.6824, 0.5451, 0.4706, 0.4588, 0.3961, 0.3961, 0.4510, 0.5569, 0.6667,\n",
              "         0.6941, 0.7529, 0.7922, 0.8196, 0.8000, 0.7725, 0.7569, 0.7176, 0.6980,\n",
              "         0.7137, 0.7137, 0.6980, 0.6980, 0.6627, 0.6196, 0.5647, 0.5843, 0.3961,\n",
              "         0.0000, 0.1961, 0.5882, 0.7333, 0.7294, 0.6745, 0.5961, 0.5412, 0.5216,\n",
              "         0.4784, 0.5020, 0.5020, 0.5059, 0.4980, 0.4902, 0.5059, 0.5216, 0.5137,\n",
              "         0.5333, 0.5373, 0.5333, 0.5216, 0.5255, 0.5490, 0.5608, 0.5843, 0.6078,\n",
              "         0.6078, 0.0000, 0.0000, 0.0000, 0.0588, 0.3451, 0.4980, 0.6980, 0.7569,\n",
              "         0.7451, 0.7882, 0.8039, 0.7922, 0.7686, 0.7882, 0.7882, 0.7922, 0.8157,\n",
              "         0.8118, 0.8196, 0.8196, 0.8157, 0.8196, 0.8196, 0.8039, 0.8157, 0.7725,\n",
              "         0.7176, 0.4706, 0.0000, 0.0000, 0.0000, 0.0000, 0.0000, 0.0000, 0.0000,\n",
              "         0.0235, 0.1098, 0.1804, 0.2235, 0.2824, 0.3098, 0.3137, 0.2863, 0.2627,\n",
              "         0.2471, 0.2392, 0.2000, 0.1843, 0.1843, 0.1922, 0.1843, 0.1529, 0.1137,\n",
              "         0.0275, 0.0000, 0.0000, 0.0000, 0.0000, 0.0000, 0.0000, 0.0000, 0.0000,\n",
              "         0.0000, 0.0000, 0.0000, 0.0000, 0.0000, 0.0000, 0.0000, 0.0000, 0.0000,\n",
              "         0.0000, 0.0000, 0.0000, 0.0000, 0.0000, 0.0000, 0.0000, 0.0000, 0.0000,\n",
              "         0.0000, 0.0000, 0.0000, 0.0000, 0.0000, 0.0000, 0.0000, 0.0000, 0.0000,\n",
              "         0.0000, 0.0000, 0.0000, 0.0000, 0.0000, 0.0000, 0.0000, 0.0000, 0.0000,\n",
              "         0.0000, 0.0000, 0.0000, 0.0000, 0.0000, 0.0000, 0.0000, 0.0000, 0.0000,\n",
              "         0.0000, 0.0000, 0.0000, 0.0000, 0.0000, 0.0000, 0.0000, 0.0000, 0.0000,\n",
              "         0.0000, 0.0000, 0.0000, 0.0000, 0.0000, 0.0000, 0.0000, 0.0000, 0.0000,\n",
              "         0.0000, 0.0000, 0.0000, 0.0000, 0.0000, 0.0000, 0.0000, 0.0000, 0.0000,\n",
              "         0.0000, 0.0000, 0.0000, 0.0000, 0.0000, 0.0000, 0.0000, 0.0000, 0.0000,\n",
              "         0.0000, 0.0000, 0.0000, 0.0000, 0.0000, 0.0000, 0.0000, 0.0000, 0.0000,\n",
              "         0.0000, 0.0000, 0.0000, 0.0000, 0.0000, 0.0000, 0.0000, 0.0000, 0.0000,\n",
              "         0.0000, 0.0000, 0.0000, 0.0000, 0.0000, 0.0000, 0.0000, 0.0000, 0.0000,\n",
              "         0.0000, 0.0000, 0.0000, 0.0000, 0.0000, 0.0000, 0.0000, 0.0000, 0.0000,\n",
              "         0.0000, 0.0000, 0.0000, 0.0000, 0.0000, 0.0000, 0.0000, 0.0000, 0.0000,\n",
              "         0.0000, 0.0000, 0.0000, 0.0000, 0.0000, 0.0000, 0.0000, 0.0000, 0.0000,\n",
              "         0.0000, 0.0000, 0.0000, 0.0000, 0.0000, 0.0000, 0.0000, 0.0000, 0.0000,\n",
              "         0.0000, 0.0000, 0.0000, 0.0000, 0.0000, 0.0000, 0.0000, 0.0000, 0.0000,\n",
              "         0.0000, 0.0000, 0.0000, 0.0000, 0.0000, 0.0000, 0.0000, 0.0000, 0.0000,\n",
              "         0.0000, 0.0000, 0.0000, 0.0000, 0.0000, 0.0000, 0.0000, 0.0000, 0.0000,\n",
              "         0.0000, 0.0000, 0.0000, 0.0000, 0.0000, 0.0000, 0.0000, 0.0000, 0.0000,\n",
              "         0.0000, 0.0000, 0.0000, 0.0000, 0.0000, 0.0000, 0.0000, 0.0000, 0.0000,\n",
              "         0.0000]),\n",
              " tensor(7))"
            ]
          },
          "metadata": {},
          "execution_count": 14
        }
      ]
    },
    {
      "cell_type": "code",
      "source": [
        "# create test_dataset object\n",
        "\n",
        "test_dataset = CustomDataset(x_test, y_test)"
      ],
      "metadata": {
        "id": "33yrrTteCgfB"
      },
      "execution_count": 15,
      "outputs": []
    },
    {
      "cell_type": "code",
      "source": [
        "train_loader = DataLoader(train_dataset, batch_size=64, shuffle=True)\n",
        "test_loader = DataLoader(test_dataset, batch_size=64, shuffle=False)"
      ],
      "metadata": {
        "id": "dpmTs4D2IIL-"
      },
      "execution_count": 16,
      "outputs": []
    },
    {
      "cell_type": "code",
      "source": [
        "class MyNN(nn.Module):\n",
        "  def __init__(self, num_features):\n",
        "    super().__init__()\n",
        "\n",
        "    self.model = nn.Sequential(\n",
        "        nn.Linear(num_features, 128),\n",
        "        nn.BatchNorm1d(128),\n",
        "        nn.ReLU(),\n",
        "        nn.Dropout(p=0.3),\n",
        "        nn.Linear(128, 64),\n",
        "        nn.ReLU(),\n",
        "        nn.Linear(64, 32),\n",
        "        nn.ReLU(),\n",
        "        nn.Dropout(p=0.2),\n",
        "        nn.Linear(32, 10),\n",
        "    )\n",
        "\n",
        "  def forward(self, x):\n",
        "    return self.model(x)"
      ],
      "metadata": {
        "id": "Vs71lk-xIgRK"
      },
      "execution_count": 46,
      "outputs": []
    },
    {
      "cell_type": "code",
      "source": [
        "epochs = 100\n",
        "learning_rate = 0.01"
      ],
      "metadata": {
        "id": "GS6EjUDdJVkU"
      },
      "execution_count": 42,
      "outputs": []
    },
    {
      "cell_type": "code",
      "source": [
        "# instantiate model\n",
        "model = MyNN(x_train.shape[1])\n",
        "model.to(device)\n",
        "\n",
        "# instatntiate loss function\n",
        "criterion = nn.CrossEntropyLoss()\n",
        "\n",
        "# opimizer\n",
        "optimizer = optim.SGD(model.parameters(), lr=learning_rate, weight_decay = 1e-4)"
      ],
      "metadata": {
        "id": "GjJTFZDtJfP7"
      },
      "execution_count": 47,
      "outputs": []
    },
    {
      "cell_type": "code",
      "source": [
        "# print number of batches\n",
        "len(train_loader)"
      ],
      "metadata": {
        "colab": {
          "base_uri": "https://localhost:8080/"
        },
        "id": "CMVLfy7ir6HY",
        "outputId": "23cf54e7-f91c-4293-cff7-6822d043de01"
      },
      "execution_count": 44,
      "outputs": [
        {
          "output_type": "execute_result",
          "data": {
            "text/plain": [
              "750"
            ]
          },
          "metadata": {},
          "execution_count": 44
        }
      ]
    },
    {
      "cell_type": "code",
      "source": [
        "for epoch in range(epochs):\n",
        "\n",
        "  total_epoch_loss = 0\n",
        "\n",
        "  for batch_features, batch_labels in train_loader:\n",
        "\n",
        "    # move data to gpu\n",
        "    batch_features = batch_features.to(device)\n",
        "    batch_labels = batch_labels.to(device)\n",
        "\n",
        "    # forward pass\n",
        "    outputs = model(batch_features)\n",
        "\n",
        "    # calcultae loss\n",
        "    loss = criterion(outputs, batch_labels)\n",
        "\n",
        "    # backward pass\n",
        "    optimizer.zero_grad()\n",
        "    loss.backward()\n",
        "\n",
        "    # update grads\n",
        "    optimizer.step()\n",
        "\n",
        "    total_epoch_loss = total_epoch_loss + loss.item()\n",
        "\n",
        "  print(f\"Epoch: {epoch+1}, Loss: {total_epoch_loss/len(train_loader)}\")"
      ],
      "metadata": {
        "colab": {
          "base_uri": "https://localhost:8080/"
        },
        "id": "Ziw4Bh7QpZx9",
        "outputId": "44b37200-3e5e-4589-b903-0796491589c3"
      },
      "execution_count": 48,
      "outputs": [
        {
          "output_type": "stream",
          "name": "stdout",
          "text": [
            "Epoch: 1, Loss: 1.4710889439582824\n",
            "Epoch: 2, Loss: 0.6916696337461472\n",
            "Epoch: 3, Loss: 0.5764801483949026\n",
            "Epoch: 4, Loss: 0.5232226660251618\n",
            "Epoch: 5, Loss: 0.49265177331368126\n",
            "Epoch: 6, Loss: 0.4768290747801463\n",
            "Epoch: 7, Loss: 0.4570746412674586\n",
            "Epoch: 8, Loss: 0.44428461023171745\n",
            "Epoch: 9, Loss: 0.43060998926560085\n",
            "Epoch: 10, Loss: 0.41988450942436856\n",
            "Epoch: 11, Loss: 0.41369034032026925\n",
            "Epoch: 12, Loss: 0.4030795825123787\n",
            "Epoch: 13, Loss: 0.39654575888315835\n",
            "Epoch: 14, Loss: 0.38900556673606235\n",
            "Epoch: 15, Loss: 0.38403856203953424\n",
            "Epoch: 16, Loss: 0.38075136492649714\n",
            "Epoch: 17, Loss: 0.37305445603529613\n",
            "Epoch: 18, Loss: 0.3696667167147001\n",
            "Epoch: 19, Loss: 0.3646942910949389\n",
            "Epoch: 20, Loss: 0.3615255056619644\n",
            "Epoch: 21, Loss: 0.35456614470481873\n",
            "Epoch: 22, Loss: 0.3502897377808889\n",
            "Epoch: 23, Loss: 0.3464679882923762\n",
            "Epoch: 24, Loss: 0.34504466263453165\n",
            "Epoch: 25, Loss: 0.3357517082889875\n",
            "Epoch: 26, Loss: 0.3360022077957789\n",
            "Epoch: 27, Loss: 0.33168189856410024\n",
            "Epoch: 28, Loss: 0.32786994648973145\n",
            "Epoch: 29, Loss: 0.32583971683184304\n",
            "Epoch: 30, Loss: 0.32260272806882856\n",
            "Epoch: 31, Loss: 0.3172332340280215\n",
            "Epoch: 32, Loss: 0.31793111508091293\n",
            "Epoch: 33, Loss: 0.3154745734433333\n",
            "Epoch: 34, Loss: 0.3098811508913835\n",
            "Epoch: 35, Loss: 0.3107448652088642\n",
            "Epoch: 36, Loss: 0.3038335044384003\n",
            "Epoch: 37, Loss: 0.3017476468384266\n",
            "Epoch: 38, Loss: 0.29767909621198974\n",
            "Epoch: 39, Loss: 0.29562422760327656\n",
            "Epoch: 40, Loss: 0.29451823071638744\n",
            "Epoch: 41, Loss: 0.29118865167101227\n",
            "Epoch: 42, Loss: 0.2879192823370298\n",
            "Epoch: 43, Loss: 0.29009619950254756\n",
            "Epoch: 44, Loss: 0.2899012903571129\n",
            "Epoch: 45, Loss: 0.2826926572024822\n",
            "Epoch: 46, Loss: 0.2849087910254796\n",
            "Epoch: 47, Loss: 0.27631218231717747\n",
            "Epoch: 48, Loss: 0.2804266477227211\n",
            "Epoch: 49, Loss: 0.2744883604248365\n",
            "Epoch: 50, Loss: 0.27751182384292283\n",
            "Epoch: 51, Loss: 0.27184281328320503\n",
            "Epoch: 52, Loss: 0.26859277007977167\n",
            "Epoch: 53, Loss: 0.2716285630365213\n",
            "Epoch: 54, Loss: 0.2657941063344479\n",
            "Epoch: 55, Loss: 0.2667914349337419\n",
            "Epoch: 56, Loss: 0.26252907436092693\n",
            "Epoch: 57, Loss: 0.26254827619592347\n",
            "Epoch: 58, Loss: 0.26208922055363654\n",
            "Epoch: 59, Loss: 0.26173267503082753\n",
            "Epoch: 60, Loss: 0.25612285497784615\n",
            "Epoch: 61, Loss: 0.2565030730466048\n",
            "Epoch: 62, Loss: 0.2529897649139166\n",
            "Epoch: 63, Loss: 0.25009269774953524\n",
            "Epoch: 64, Loss: 0.25197941094636916\n",
            "Epoch: 65, Loss: 0.248870714088281\n",
            "Epoch: 66, Loss: 0.2504248558183511\n",
            "Epoch: 67, Loss: 0.24362476923068366\n",
            "Epoch: 68, Loss: 0.24315318605303765\n",
            "Epoch: 69, Loss: 0.24162035752336183\n",
            "Epoch: 70, Loss: 0.2408065061469873\n",
            "Epoch: 71, Loss: 0.23930310585101444\n",
            "Epoch: 72, Loss: 0.24097978710134824\n",
            "Epoch: 73, Loss: 0.2370684774617354\n",
            "Epoch: 74, Loss: 0.23364816523591678\n",
            "Epoch: 75, Loss: 0.2344313587943713\n",
            "Epoch: 76, Loss: 0.2355476822902759\n",
            "Epoch: 77, Loss: 0.2309717944363753\n",
            "Epoch: 78, Loss: 0.2308521353205045\n",
            "Epoch: 79, Loss: 0.22998573689659438\n",
            "Epoch: 80, Loss: 0.22862272303799788\n",
            "Epoch: 81, Loss: 0.22810026676456133\n",
            "Epoch: 82, Loss: 0.22595132208863894\n",
            "Epoch: 83, Loss: 0.22802504299084345\n",
            "Epoch: 84, Loss: 0.22487124090393384\n",
            "Epoch: 85, Loss: 0.22152315577864648\n",
            "Epoch: 86, Loss: 0.22105885223547617\n",
            "Epoch: 87, Loss: 0.2171811056236426\n",
            "Epoch: 88, Loss: 0.22120122940838338\n",
            "Epoch: 89, Loss: 0.21733393430709838\n",
            "Epoch: 90, Loss: 0.21784507805109024\n",
            "Epoch: 91, Loss: 0.21551801918447017\n",
            "Epoch: 92, Loss: 0.212903518786033\n",
            "Epoch: 93, Loss: 0.21277084585527578\n",
            "Epoch: 94, Loss: 0.20962870374321937\n",
            "Epoch: 95, Loss: 0.2126019279907147\n",
            "Epoch: 96, Loss: 0.21173594778279464\n",
            "Epoch: 97, Loss: 0.21166753218571346\n",
            "Epoch: 98, Loss: 0.20826413625478746\n",
            "Epoch: 99, Loss: 0.20774735430876415\n",
            "Epoch: 100, Loss: 0.20735046629110973\n"
          ]
        }
      ]
    },
    {
      "cell_type": "code",
      "source": [
        "model.eval()"
      ],
      "metadata": {
        "colab": {
          "base_uri": "https://localhost:8080/"
        },
        "id": "C-yZLI1T33Ct",
        "outputId": "360e7fe4-9d4c-47f4-ded5-a73a7f2ade13"
      },
      "execution_count": 49,
      "outputs": [
        {
          "output_type": "execute_result",
          "data": {
            "text/plain": [
              "MyNN(\n",
              "  (model): Sequential(\n",
              "    (0): Linear(in_features=784, out_features=128, bias=True)\n",
              "    (1): BatchNorm1d(128, eps=1e-05, momentum=0.1, affine=True, track_running_stats=True)\n",
              "    (2): ReLU()\n",
              "    (3): Dropout(p=0.3, inplace=False)\n",
              "    (4): Linear(in_features=128, out_features=64, bias=True)\n",
              "    (5): ReLU()\n",
              "    (6): Linear(in_features=64, out_features=32, bias=True)\n",
              "    (7): ReLU()\n",
              "    (8): Dropout(p=0.2, inplace=False)\n",
              "    (9): Linear(in_features=32, out_features=10, bias=True)\n",
              "  )\n",
              ")"
            ]
          },
          "metadata": {},
          "execution_count": 49
        }
      ]
    },
    {
      "cell_type": "code",
      "source": [
        "len(test_loader)"
      ],
      "metadata": {
        "colab": {
          "base_uri": "https://localhost:8080/"
        },
        "id": "A-MhuwIw43tH",
        "outputId": "5d02c9f0-f8b0-4376-9a09-cca0beb9f4cc"
      },
      "execution_count": 50,
      "outputs": [
        {
          "output_type": "execute_result",
          "data": {
            "text/plain": [
              "188"
            ]
          },
          "metadata": {},
          "execution_count": 50
        }
      ]
    },
    {
      "cell_type": "code",
      "source": [
        "# evaluation code\n",
        "\n",
        "total = 0\n",
        "correct = 0\n",
        "\n",
        "with torch.no_grad():\n",
        "  for batch_features, batch_labels in test_loader:\n",
        "\n",
        "    batch_features = batch_features.to(device)\n",
        "    batch_labels = batch_labels.to(device)\n",
        "\n",
        "    outputs = model(batch_features)\n",
        "    _, predicted = torch.max(outputs, 1)\n",
        "    total = total + batch_labels.shape[0]\n",
        "    correct = correct + (predicted == batch_labels).sum().item()\n",
        "\n",
        "print(f\"Accuracy on test: {correct/total}\")\n",
        "\n",
        "# evaluation on training data\n",
        "\n",
        "total = 0\n",
        "correct = 0\n",
        "\n",
        "with torch.no_grad():\n",
        "  for batch_features, batch_labels in train_loader:\n",
        "\n",
        "    batch_features = batch_features.to(device)\n",
        "    batch_labels = batch_labels.to(device)\n",
        "\n",
        "    outputs = model(batch_features)\n",
        "    _, predicted = torch.max(outputs, 1)\n",
        "    total = total + batch_labels.shape[0]\n",
        "    correct = correct + (predicted == batch_labels).sum().item()\n",
        "\n",
        "print(f\"Accuracy on train: {correct/total}\")"
      ],
      "metadata": {
        "colab": {
          "base_uri": "https://localhost:8080/"
        },
        "id": "wcs9rXv_4DXE",
        "outputId": "e2f45991-b0ae-45ac-c3ff-bc77d085c1d7"
      },
      "execution_count": 51,
      "outputs": [
        {
          "output_type": "stream",
          "name": "stdout",
          "text": [
            "Accuracy on test: 0.8869166666666667\n",
            "Accuracy on train: 0.9604583333333333\n"
          ]
        }
      ]
    }
  ]
}