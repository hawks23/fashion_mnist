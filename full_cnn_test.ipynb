{
  "nbformat": 4,
  "nbformat_minor": 0,
  "metadata": {
    "colab": {
      "provenance": [],
      "gpuType": "T4"
    },
    "kernelspec": {
      "name": "python3",
      "display_name": "Python 3"
    },
    "language_info": {
      "name": "python"
    },
    "accelerator": "GPU"
  },
  "cells": [
    {
      "cell_type": "markdown",
      "source": [
        "### Building an ANN"
      ],
      "metadata": {
        "id": "6MaQuCgMunvi"
      }
    },
    {
      "cell_type": "markdown",
      "source": [
        "### Input is MNIST Fashion dataset, to classify fashion articles. 28x28 pictures.\n",
        "\n",
        "### 4 layers, 1 input layer (784), 2 hidden layers(128 and 64) and 1 output layer (10)"
      ],
      "metadata": {
        "id": "BEPe2p5aur6Y"
      }
    },
    {
      "cell_type": "code",
      "source": [
        "import pandas as pd\n",
        "from sklearn.model_selection import train_test_split\n",
        "import torch\n",
        "from torch.utils.data import Dataset, DataLoader\n",
        "import torch.nn as nn\n",
        "import torch.optim as optim\n",
        "import matplotlib.pyplot as plt"
      ],
      "metadata": {
        "id": "PXZeiyJ6xG6F"
      },
      "execution_count": 1,
      "outputs": []
    },
    {
      "cell_type": "code",
      "source": [
        "torch.manual_seed(42)"
      ],
      "metadata": {
        "colab": {
          "base_uri": "https://localhost:8080/"
        },
        "id": "jqEhtnnRxcmd",
        "outputId": "9b1ee978-3949-4bdc-d383-6381295cf536"
      },
      "execution_count": 2,
      "outputs": [
        {
          "output_type": "execute_result",
          "data": {
            "text/plain": [
              "<torch._C.Generator at 0x7926733e4b90>"
            ]
          },
          "metadata": {},
          "execution_count": 2
        }
      ]
    },
    {
      "cell_type": "code",
      "source": [
        "device = torch.device(\"cuda\" if torch.cuda.is_available() else \"cpu\")"
      ],
      "metadata": {
        "id": "7pGnN5mMDyKR"
      },
      "execution_count": 3,
      "outputs": []
    },
    {
      "cell_type": "code",
      "metadata": {
        "colab": {
          "base_uri": "https://localhost:8080/"
        },
        "id": "ff0a955a",
        "outputId": "b0aa6b81-cd0f-4ecf-aeb7-3917c1b0d935"
      },
      "source": [
        "import zipfile\n",
        "import os\n",
        "\n",
        "file_path = \"/content/archive.zip\"\n",
        "output_dir = \"/content/\"\n",
        "\n",
        "os.makedirs(output_dir, exist_ok=True)\n",
        "\n",
        "with zipfile.ZipFile(file_path, 'r') as zip_ref:\n",
        "    zip_ref.extractall(output_dir)\n",
        "\n",
        "print(f\"File extracted to {output_dir}\")"
      ],
      "execution_count": 4,
      "outputs": [
        {
          "output_type": "stream",
          "name": "stdout",
          "text": [
            "File extracted to /content/\n"
          ]
        }
      ]
    },
    {
      "cell_type": "code",
      "source": [
        "df = pd.read_csv(\"/content/fashion-mnist_train.csv\")"
      ],
      "metadata": {
        "id": "lseZZlbyxigE"
      },
      "execution_count": 5,
      "outputs": []
    },
    {
      "cell_type": "code",
      "source": [
        "df.shape"
      ],
      "metadata": {
        "colab": {
          "base_uri": "https://localhost:8080/"
        },
        "id": "twnea0yHxobF",
        "outputId": "6aeb1123-7361-4050-8408-5b3c9e6d4a97"
      },
      "execution_count": 6,
      "outputs": [
        {
          "output_type": "execute_result",
          "data": {
            "text/plain": [
              "(60000, 785)"
            ]
          },
          "metadata": {},
          "execution_count": 6
        }
      ]
    },
    {
      "cell_type": "code",
      "source": [
        "# df = df.sample(n=6000, random_state=42)"
      ],
      "metadata": {
        "id": "JKQlOwlIxzn0"
      },
      "execution_count": null,
      "outputs": []
    },
    {
      "cell_type": "code",
      "source": [
        "import matplotlib.pyplot as plt\n",
        "import numpy as np\n",
        "\n",
        "# Select 8 random indices\n",
        "random_indices = np.random.choice(df.index, size=8, replace=False)\n",
        "\n",
        "# Get the images and labels for the selected indices\n",
        "random_images = df.loc[random_indices, df.columns != 'label'].values\n",
        "random_labels = df.loc[random_indices, 'label'].values\n",
        "\n",
        "# Reshape the images to 28x28\n",
        "random_images = random_images.reshape(-1, 28, 28)\n",
        "\n",
        "# Display the images\n",
        "plt.figure(figsize=(12, 6))\n",
        "for i in range(8):\n",
        "    plt.subplot(2, 4, i + 1)\n",
        "    plt.imshow(random_images[i], cmap='gray')\n",
        "    plt.title(f\"Label: {random_labels[i]}\")\n",
        "    plt.axis('off')\n",
        "plt.tight_layout()\n",
        "plt.show()"
      ],
      "metadata": {
        "colab": {
          "base_uri": "https://localhost:8080/",
          "height": 357
        },
        "id": "QWs4QDqEyaFk",
        "outputId": "62c5658b-ff26-41a1-97b7-413a64fe7907"
      },
      "execution_count": 7,
      "outputs": [
        {
          "output_type": "display_data",
          "data": {
            "text/plain": [
              "<Figure size 1200x600 with 8 Axes>"
            ],
            "image/png": "[encoded data removed]"
          },
          "metadata": {}
        }
      ]
    },
    {
      "cell_type": "code",
      "source": [
        "display(df['label'].value_counts().sort_index())"
      ],
      "metadata": {
        "colab": {
          "base_uri": "https://localhost:8080/",
          "height": 429
        },
        "id": "kDhivFHmynsU",
        "outputId": "1b1d1003-7024-42d1-d5db-abe0041fdc27"
      },
      "execution_count": 8,
      "outputs": [
        {
          "output_type": "display_data",
          "data": {
            "text/plain": [
              "label\n",
              "0    6000\n",
              "1    6000\n",
              "2    6000\n",
              "3    6000\n",
              "4    6000\n",
              "5    6000\n",
              "6    6000\n",
              "7    6000\n",
              "8    6000\n",
              "9    6000\n",
              "Name: count, dtype: int64"
            ],
            "text/html": [
              "<div>\n",
              "<style scoped>\n",
              "    .dataframe tbody tr th:only-of-type {\n",
              "        vertical-align: middle;\n",
              "    }\n",
              "\n",
              "    .dataframe tbody tr th {\n",
              "        vertical-align: top;\n",
              "    }\n",
              "\n",
              "    .dataframe thead th {\n",
              "        text-align: right;\n",
              "    }\n",
              "</style>\n",
              "<table border=\"1\" class=\"dataframe\">\n",
              "  <thead>\n",
              "    <tr style=\"text-align: right;\">\n",
              "      <th></th>\n",
              "      <th>count</th>\n",
              "    </tr>\n",
              "    <tr>\n",
              "      <th>label</th>\n",
              "      <th></th>\n",
              "    </tr>\n",
              "  </thead>\n",
              "  <tbody>\n",
              "    <tr>\n",
              "      <th>0</th>\n",
              "      <td>6000</td>\n",
              "    </tr>\n",
              "    <tr>\n",
              "      <th>1</th>\n",
              "      <td>6000</td>\n",
              "    </tr>\n",
              "    <tr>\n",
              "      <th>2</th>\n",
              "      <td>6000</td>\n",
              "    </tr>\n",
              "    <tr>\n",
              "      <th>3</th>\n",
              "      <td>6000</td>\n",
              "    </tr>\n",
              "    <tr>\n",
              "      <th>4</th>\n",
              "      <td>6000</td>\n",
              "    </tr>\n",
              "    <tr>\n",
              "      <th>5</th>\n",
              "      <td>6000</td>\n",
              "    </tr>\n",
              "    <tr>\n",
              "      <th>6</th>\n",
              "      <td>6000</td>\n",
              "    </tr>\n",
              "    <tr>\n",
              "      <th>7</th>\n",
              "      <td>6000</td>\n",
              "    </tr>\n",
              "    <tr>\n",
              "      <th>8</th>\n",
              "      <td>6000</td>\n",
              "    </tr>\n",
              "    <tr>\n",
              "      <th>9</th>\n",
              "      <td>6000</td>\n",
              "    </tr>\n",
              "  </tbody>\n",
              "</table>\n",
              "</div><br><label><b>dtype:</b> int64</label>"
            ]
          },
          "metadata": {}
        }
      ]
    },
    {
      "cell_type": "code",
      "source": [
        "# test train split\n",
        "\n",
        "x = df.iloc[:, 1:].values\n",
        "y = df.iloc[:, 0].values\n",
        "\n",
        "x_train, x_test, y_train, y_test = train_test_split(x, y, test_size=0.2, random_state=42)"
      ],
      "metadata": {
        "id": "ilfcH3kk9H3e"
      },
      "execution_count": 9,
      "outputs": []
    },
    {
      "cell_type": "code",
      "source": [
        "# scaling\n",
        "\n",
        "x_train = x_train/255.0\n",
        "x_test = x_test/255.0"
      ],
      "metadata": {
        "id": "L_VMQ-pp_K-b"
      },
      "execution_count": 10,
      "outputs": []
    },
    {
      "cell_type": "code",
      "source": [
        "# create customdataset class\n",
        "\n",
        "class CustomDataset(Dataset):\n",
        "\n",
        "  def __init__(self, features, labels):\n",
        "    self.features = torch.tensor(features,dtype=torch.float32).reshape(-1,1,28,28)\n",
        "    self.labels = torch.tensor(labels,dtype=torch.long)\n",
        "\n",
        "  def __len__(self):\n",
        "    return len(self.features)\n",
        "\n",
        "  def __getitem__(self, index):\n",
        "    return self.features[index], self.labels[index]"
      ],
      "metadata": {
        "id": "2C4qDwIS_zHK"
      },
      "execution_count": 26,
      "outputs": []
    },
    {
      "cell_type": "code",
      "source": [
        "# create train_dataset object\n",
        "\n",
        "train_dataset = CustomDataset(x_train, y_train)"
      ],
      "metadata": {
        "id": "eMrpCs_oB7vx"
      },
      "execution_count": 27,
      "outputs": []
    },
    {
      "cell_type": "code",
      "source": [
        "len(train_dataset)\n",
        "train_dataset[1]"
      ],
      "metadata": {
        "colab": {
          "base_uri": "https://localhost:8080/"
        },
        "id": "bywHOWFECCjx",
        "outputId": "a5bd9a81-b838-4de2-d5ff-6f412782645a"
      },
      "execution_count": 13,
      "outputs": [
        {
          "output_type": "execute_result",
          "data": {
            "text/plain": [
              "(tensor([[[0.0000, 0.0000, 0.0000, 0.0000, 0.0000, 0.0000, 0.0000, 0.0000,\n",
              "           0.0000, 0.0000, 0.0000, 0.0000, 0.0000, 0.0000, 0.0000, 0.0000,\n",
              "           0.0000, 0.0000, 0.0000, 0.0000, 0.0000, 0.0000, 0.0000, 0.0000,\n",
              "           0.0000, 0.0000, 0.0000, 0.0000],\n",
              "          [0.0000, 0.0000, 0.0000, 0.0000, 0.0000, 0.0000, 0.0000, 0.0000,\n",
              "           0.0000, 0.0000, 0.0000, 0.0000, 0.0000, 0.0000, 0.0000, 0.0000,\n",
              "           0.0000, 0.0000, 0.0000, 0.0000, 0.0000, 0.0000, 0.0000, 0.0000,\n",
              "           0.0000, 0.0000, 0.0000, 0.0000],\n",
              "          [0.0000, 0.0000, 0.0000, 0.0000, 0.0000, 0.0000, 0.0000, 0.0000,\n",
              "           0.0000, 0.0000, 0.0000, 0.0000, 0.0000, 0.0000, 0.0000, 0.0000,\n",
              "           0.0000, 0.0000, 0.0000, 0.0000, 0.0000, 0.0000, 0.0000, 0.0000,\n",
              "           0.0000, 0.0000, 0.0000, 0.0000],\n",
              "          [0.0000, 0.0000, 0.0000, 0.0000, 0.0000, 0.0000, 0.0000, 0.0000,\n",
              "           0.0000, 0.0000, 0.0000, 0.0000, 0.0000, 0.0000, 0.0000, 0.0000,\n",
              "           0.0000, 0.0000, 0.0000, 0.0000, 0.0000, 0.0000, 0.0000, 0.0000,\n",
              "           0.0000, 0.0000, 0.0000, 0.0000],\n",
              "          [0.0000, 0.0000, 0.0000, 0.0000, 0.0000, 0.0000, 0.0000, 0.0000,\n",
              "           0.0000, 0.0000, 0.0000, 0.0000, 0.0000, 0.0000, 0.0000, 0.0000,\n",
              "           0.0000, 0.0000, 0.0000, 0.0000, 0.0000, 0.0000, 0.0000, 0.0000,\n",
              "           0.0000, 0.0000, 0.0000, 0.0000],\n",
              "          [0.0000, 0.0000, 0.0000, 0.0000, 0.0000, 0.0000, 0.0000, 0.0000,\n",
              "           0.0000, 0.0000, 0.0000, 0.0000, 0.0000, 0.0000, 0.0000, 0.0000,\n",
              "           0.0000, 0.0000, 0.0000, 0.0000, 0.0000, 0.0000, 0.0000, 0.0000,\n",
              "           0.0000, 0.0000, 0.0000, 0.0000],\n",
              "          [0.0000, 0.0000, 0.0000, 0.0000, 0.0000, 0.0000, 0.0000, 0.0000,\n",
              "           0.0000, 0.0000, 0.0000, 0.0000, 0.0000, 0.0000, 0.0000, 0.0000,\n",
              "           0.0000, 0.0000, 0.0000, 0.0000, 0.0000, 0.0000, 0.0000, 0.0000,\n",
              "           0.0000, 0.0000, 0.0000, 0.0000],\n",
              "          [0.0000, 0.0000, 0.0000, 0.0000, 0.0000, 0.0000, 0.0000, 0.0000,\n",
              "           0.0000, 0.0000, 0.0000, 0.0000, 0.0000, 0.0000, 0.0000, 0.0000,\n",
              "           0.0000, 0.0000, 0.0000, 0.0000, 0.0000, 0.0000, 0.0000, 0.0000,\n",
              "           0.0000, 0.0000, 0.0000, 0.0000],\n",
              "          [0.0000, 0.0000, 0.0000, 0.0000, 0.0000, 0.0000, 0.0000, 0.0000,\n",
              "           0.0000, 0.0000, 0.0039, 0.0000, 0.0000, 0.0039, 0.0000, 0.0000,\n",
              "           0.0000, 0.0000, 0.0000, 0.0000, 0.0000, 0.0000, 0.0000, 0.0000,\n",
              "           0.0000, 0.0000, 0.0039, 0.0000],\n",
              "          [0.0000, 0.0000, 0.0000, 0.0000, 0.0000, 0.0000, 0.0000, 0.0000,\n",
              "           0.0000, 0.0000, 0.0000, 0.0000, 0.0000, 0.0000, 0.0000, 0.0000,\n",
              "           0.3255, 0.4510, 0.0000, 0.0000, 0.0000, 0.0000, 0.0000, 0.0000,\n",
              "           0.0353, 0.0431, 0.0039, 0.0000],\n",
              "          [0.0000, 0.0000, 0.0000, 0.0000, 0.0000, 0.0000, 0.0000, 0.0000,\n",
              "           0.0000, 0.0000, 0.0000, 0.0000, 0.0000, 0.0000, 0.6196, 0.7098,\n",
              "           0.7451, 0.7961, 0.0000, 0.0000, 0.0078, 0.0157, 0.0000, 0.0000,\n",
              "           0.0000, 0.0000, 0.0000, 0.0000],\n",
              "          [0.0000, 0.0000, 0.0000, 0.0000, 0.0000, 0.0000, 0.0000, 0.0000,\n",
              "           0.0000, 0.0000, 0.0000, 0.0000, 0.2510, 0.9451, 0.7294, 0.6863,\n",
              "           0.7333, 0.8471, 0.0235, 0.0000, 0.0000, 0.0000, 0.0000, 0.0000,\n",
              "           0.2196, 0.5333, 0.0000, 0.0000],\n",
              "          [0.0000, 0.0039, 0.0235, 0.0157, 0.0039, 0.0078, 0.0078, 0.0000,\n",
              "           0.0000, 0.0000, 0.0000, 0.5490, 0.8471, 0.7176, 0.7059, 0.7882,\n",
              "           0.7059, 0.7608, 0.9098, 0.5451, 0.2784, 0.4078, 0.7490, 0.8431,\n",
              "           0.9294, 0.9098, 0.4627, 0.0000],\n",
              "          [0.0157, 0.0000, 0.0000, 0.0000, 0.0000, 0.0000, 0.0000, 0.0000,\n",
              "           0.0471, 0.4353, 0.8353, 0.7569, 0.7255, 0.7373, 0.8118, 0.7686,\n",
              "           0.8353, 0.8118, 0.8314, 0.9098, 0.9255, 0.9451, 0.9059, 0.8471,\n",
              "           0.8118, 0.8667, 0.9020, 0.0000],\n",
              "          [0.0000, 0.0000, 0.1647, 0.0745, 0.0235, 0.0118, 0.0667, 0.5882,\n",
              "           0.8039, 0.7804, 0.7373, 0.7804, 0.7059, 0.7098, 0.8235, 0.7490,\n",
              "           0.7059, 0.8745, 0.9373, 0.8667, 0.8627, 0.8431, 0.8627, 0.8863,\n",
              "           0.8824, 0.8000, 0.8588, 0.1216],\n",
              "          [0.0000, 0.4196, 0.7490, 0.7490, 0.7294, 0.6824, 0.7255, 0.7765,\n",
              "           0.7451, 0.6980, 0.6863, 0.5843, 0.7137, 0.7961, 0.7098, 0.7725,\n",
              "           0.7569, 0.6745, 0.7922, 0.9059, 0.9176, 1.0000, 0.9216, 0.9020,\n",
              "           0.8196, 0.8039, 0.8980, 0.2980],\n",
              "          [0.1725, 0.5020, 0.4510, 0.5569, 0.6431, 0.7294, 0.6627, 0.6902,\n",
              "           0.8196, 0.7804, 0.7608, 0.7569, 0.7490, 0.7882, 0.8667, 0.9451,\n",
              "           0.9647, 0.9176, 0.8627, 0.8980, 0.9412, 1.0000, 0.9373, 0.9529,\n",
              "           0.9922, 0.8824, 0.9922, 0.2824],\n",
              "          [0.0863, 0.6824, 0.5451, 0.4706, 0.4588, 0.3961, 0.3961, 0.4510,\n",
              "           0.5569, 0.6667, 0.6941, 0.7529, 0.7922, 0.8196, 0.8000, 0.7725,\n",
              "           0.7569, 0.7176, 0.6980, 0.7137, 0.7137, 0.6980, 0.6980, 0.6627,\n",
              "           0.6196, 0.5647, 0.5843, 0.3961],\n",
              "          [0.0000, 0.1961, 0.5882, 0.7333, 0.7294, 0.6745, 0.5961, 0.5412,\n",
              "           0.5216, 0.4784, 0.5020, 0.5020, 0.5059, 0.4980, 0.4902, 0.5059,\n",
              "           0.5216, 0.5137, 0.5333, 0.5373, 0.5333, 0.5216, 0.5255, 0.5490,\n",
              "           0.5608, 0.5843, 0.6078, 0.6078],\n",
              "          [0.0000, 0.0000, 0.0000, 0.0588, 0.3451, 0.4980, 0.6980, 0.7569,\n",
              "           0.7451, 0.7882, 0.8039, 0.7922, 0.7686, 0.7882, 0.7882, 0.7922,\n",
              "           0.8157, 0.8118, 0.8196, 0.8196, 0.8157, 0.8196, 0.8196, 0.8039,\n",
              "           0.8157, 0.7725, 0.7176, 0.4706],\n",
              "          [0.0000, 0.0000, 0.0000, 0.0000, 0.0000, 0.0000, 0.0000, 0.0235,\n",
              "           0.1098, 0.1804, 0.2235, 0.2824, 0.3098, 0.3137, 0.2863, 0.2627,\n",
              "           0.2471, 0.2392, 0.2000, 0.1843, 0.1843, 0.1922, 0.1843, 0.1529,\n",
              "           0.1137, 0.0275, 0.0000, 0.0000],\n",
              "          [0.0000, 0.0000, 0.0000, 0.0000, 0.0000, 0.0000, 0.0000, 0.0000,\n",
              "           0.0000, 0.0000, 0.0000, 0.0000, 0.0000, 0.0000, 0.0000, 0.0000,\n",
              "           0.0000, 0.0000, 0.0000, 0.0000, 0.0000, 0.0000, 0.0000, 0.0000,\n",
              "           0.0000, 0.0000, 0.0000, 0.0000],\n",
              "          [0.0000, 0.0000, 0.0000, 0.0000, 0.0000, 0.0000, 0.0000, 0.0000,\n",
              "           0.0000, 0.0000, 0.0000, 0.0000, 0.0000, 0.0000, 0.0000, 0.0000,\n",
              "           0.0000, 0.0000, 0.0000, 0.0000, 0.0000, 0.0000, 0.0000, 0.0000,\n",
              "           0.0000, 0.0000, 0.0000, 0.0000],\n",
              "          [0.0000, 0.0000, 0.0000, 0.0000, 0.0000, 0.0000, 0.0000, 0.0000,\n",
              "           0.0000, 0.0000, 0.0000, 0.0000, 0.0000, 0.0000, 0.0000, 0.0000,\n",
              "           0.0000, 0.0000, 0.0000, 0.0000, 0.0000, 0.0000, 0.0000, 0.0000,\n",
              "           0.0000, 0.0000, 0.0000, 0.0000],\n",
              "          [0.0000, 0.0000, 0.0000, 0.0000, 0.0000, 0.0000, 0.0000, 0.0000,\n",
              "           0.0000, 0.0000, 0.0000, 0.0000, 0.0000, 0.0000, 0.0000, 0.0000,\n",
              "           0.0000, 0.0000, 0.0000, 0.0000, 0.0000, 0.0000, 0.0000, 0.0000,\n",
              "           0.0000, 0.0000, 0.0000, 0.0000],\n",
              "          [0.0000, 0.0000, 0.0000, 0.0000, 0.0000, 0.0000, 0.0000, 0.0000,\n",
              "           0.0000, 0.0000, 0.0000, 0.0000, 0.0000, 0.0000, 0.0000, 0.0000,\n",
              "           0.0000, 0.0000, 0.0000, 0.0000, 0.0000, 0.0000, 0.0000, 0.0000,\n",
              "           0.0000, 0.0000, 0.0000, 0.0000],\n",
              "          [0.0000, 0.0000, 0.0000, 0.0000, 0.0000, 0.0000, 0.0000, 0.0000,\n",
              "           0.0000, 0.0000, 0.0000, 0.0000, 0.0000, 0.0000, 0.0000, 0.0000,\n",
              "           0.0000, 0.0000, 0.0000, 0.0000, 0.0000, 0.0000, 0.0000, 0.0000,\n",
              "           0.0000, 0.0000, 0.0000, 0.0000],\n",
              "          [0.0000, 0.0000, 0.0000, 0.0000, 0.0000, 0.0000, 0.0000, 0.0000,\n",
              "           0.0000, 0.0000, 0.0000, 0.0000, 0.0000, 0.0000, 0.0000, 0.0000,\n",
              "           0.0000, 0.0000, 0.0000, 0.0000, 0.0000, 0.0000, 0.0000, 0.0000,\n",
              "           0.0000, 0.0000, 0.0000, 0.0000]]]),\n",
              " tensor(7))"
            ]
          },
          "metadata": {},
          "execution_count": 13
        }
      ]
    },
    {
      "cell_type": "code",
      "source": [
        "# create test_dataset object\n",
        "\n",
        "test_dataset = CustomDataset(x_test, y_test)"
      ],
      "metadata": {
        "id": "33yrrTteCgfB"
      },
      "execution_count": 28,
      "outputs": []
    },
    {
      "cell_type": "code",
      "source": [
        "train_loader = DataLoader(train_dataset, batch_size=32, shuffle=True)\n",
        "test_loader = DataLoader(test_dataset, batch_size=32, shuffle=False)"
      ],
      "metadata": {
        "id": "dpmTs4D2IIL-"
      },
      "execution_count": 30,
      "outputs": []
    },
    {
      "cell_type": "code",
      "source": [
        "class MyNN(nn.Module):\n",
        "  def __init__(self, input_features):\n",
        "    super().__init__()\n",
        "\n",
        "    # feature extraction\n",
        "    self.features = nn.Sequential(\n",
        "        nn.Conv2d(input_features, 32, kernel_size=3, stride=1, padding='same'),\n",
        "        nn.ReLU(),\n",
        "        nn.BatchNorm2d(32),\n",
        "        nn.MaxPool2d(kernel_size=2, stride=2),\n",
        "\n",
        "        nn.Conv2d(32, 64, kernel_size=3, stride=1, padding='same'),\n",
        "        nn.ReLU(),\n",
        "        nn.BatchNorm2d(64),\n",
        "        nn.MaxPool2d(kernel_size=2, stride=2)\n",
        "    )\n",
        "\n",
        "    # classifier\n",
        "    self.classifier = nn.Sequential(\n",
        "        nn.Flatten(),\n",
        "        nn.Linear(64*7*7, 128),\n",
        "        nn.ReLU(),\n",
        "        nn.Dropout(0.4),\n",
        "\n",
        "        nn.Linear(128,64),\n",
        "        nn.ReLU(),\n",
        "        nn.Dropout(0.4),\n",
        "\n",
        "        nn.Linear(64,10)\n",
        "    )\n",
        "\n",
        "  def forward(self, x):\n",
        "    x = self.features(x)\n",
        "    x = self.classifier(x)\n",
        "\n",
        "    return x"
      ],
      "metadata": {
        "id": "Vs71lk-xIgRK"
      },
      "execution_count": 37,
      "outputs": []
    },
    {
      "cell_type": "code",
      "source": [
        "epochs = 100\n",
        "learning_rate = 0.01"
      ],
      "metadata": {
        "id": "GS6EjUDdJVkU"
      },
      "execution_count": 38,
      "outputs": []
    },
    {
      "cell_type": "code",
      "source": [
        "# instantiate model\n",
        "model = MyNN(1)\n",
        "model.to(device)\n",
        "\n",
        "# instatntiate loss function\n",
        "criterion = nn.CrossEntropyLoss()\n",
        "\n",
        "# opimizer\n",
        "optimizer = optim.SGD(model.parameters(), lr=learning_rate, weight_decay = 1e-4)"
      ],
      "metadata": {
        "id": "GjJTFZDtJfP7"
      },
      "execution_count": 39,
      "outputs": []
    },
    {
      "cell_type": "code",
      "source": [
        "# print number of batches\n",
        "len(train_loader)"
      ],
      "metadata": {
        "colab": {
          "base_uri": "https://localhost:8080/"
        },
        "id": "CMVLfy7ir6HY",
        "outputId": "5beec4ad-e138-4a08-ca4a-437f047df3ef"
      },
      "execution_count": 35,
      "outputs": [
        {
          "output_type": "execute_result",
          "data": {
            "text/plain": [
              "1500"
            ]
          },
          "metadata": {},
          "execution_count": 35
        }
      ]
    },
    {
      "cell_type": "code",
      "source": [
        "for epoch in range(epochs):\n",
        "\n",
        "  total_epoch_loss = 0\n",
        "\n",
        "  for batch_features, batch_labels in train_loader:\n",
        "\n",
        "    # move data to gpu\n",
        "    batch_features = batch_features.to(device)\n",
        "    batch_labels = batch_labels.to(device)\n",
        "\n",
        "    # forward pass\n",
        "    outputs = model(batch_features)\n",
        "\n",
        "    # calcultae loss\n",
        "    loss = criterion(outputs, batch_labels)\n",
        "\n",
        "    # backward pass\n",
        "    optimizer.zero_grad()\n",
        "    loss.backward()\n",
        "\n",
        "    # update grads\n",
        "    optimizer.step()\n",
        "\n",
        "    total_epoch_loss = total_epoch_loss + loss.item()\n",
        "\n",
        "  print(f\"Epoch: {epoch+1}, Loss: {total_epoch_loss/len(train_loader)}\")"
      ],
      "metadata": {
        "colab": {
          "base_uri": "https://localhost:8080/"
        },
        "id": "Ziw4Bh7QpZx9",
        "outputId": "5ccddef8-9697-40bf-d8d5-7a110330fcbb"
      },
      "execution_count": 40,
      "outputs": [
        {
          "output_type": "stream",
          "name": "stdout",
          "text": [
            "Epoch: 1, Loss: 0.6607684432466825\n",
            "Epoch: 2, Loss: 0.38460053913295267\n",
            "Epoch: 3, Loss: 0.3272090838601192\n",
            "Epoch: 4, Loss: 0.28770059603701037\n",
            "Epoch: 5, Loss: 0.26497445272281767\n",
            "Epoch: 6, Loss: 0.24665976429109773\n",
            "Epoch: 7, Loss: 0.2293034341596067\n",
            "Epoch: 8, Loss: 0.21504798182006926\n",
            "Epoch: 9, Loss: 0.2014385415116946\n",
            "Epoch: 10, Loss: 0.1867190728103742\n",
            "Epoch: 11, Loss: 0.18000925815664232\n",
            "Epoch: 12, Loss: 0.1686230296542247\n",
            "Epoch: 13, Loss: 0.1596255717811485\n",
            "Epoch: 14, Loss: 0.15135696713191768\n",
            "Epoch: 15, Loss: 0.14012252739071845\n",
            "Epoch: 16, Loss: 0.1371868281949622\n",
            "Epoch: 17, Loss: 0.1281045542396605\n",
            "Epoch: 18, Loss: 0.12531434754344326\n",
            "Epoch: 19, Loss: 0.11259790725074709\n",
            "Epoch: 20, Loss: 0.11234660568786785\n",
            "Epoch: 21, Loss: 0.10504294176845967\n",
            "Epoch: 22, Loss: 0.09848812762803087\n",
            "Epoch: 23, Loss: 0.09660158565624928\n",
            "Epoch: 24, Loss: 0.09066466652586436\n",
            "Epoch: 25, Loss: 0.08509256301928933\n",
            "Epoch: 26, Loss: 0.08615734134342831\n",
            "Epoch: 27, Loss: 0.07780400107878571\n",
            "Epoch: 28, Loss: 0.07410486041595384\n",
            "Epoch: 29, Loss: 0.07294506479105137\n",
            "Epoch: 30, Loss: 0.07218580249381679\n",
            "Epoch: 31, Loss: 0.07083124378703845\n",
            "Epoch: 32, Loss: 0.06542612749537996\n",
            "Epoch: 33, Loss: 0.06439585832277468\n",
            "Epoch: 34, Loss: 0.05819704680439706\n",
            "Epoch: 35, Loss: 0.054763929127191656\n",
            "Epoch: 36, Loss: 0.05569440557636941\n",
            "Epoch: 37, Loss: 0.05286076165353491\n",
            "Epoch: 38, Loss: 0.05212765644673103\n",
            "Epoch: 39, Loss: 0.05367489914926409\n",
            "Epoch: 40, Loss: 0.046056334548202967\n",
            "Epoch: 41, Loss: 0.05034134739426372\n",
            "Epoch: 42, Loss: 0.046575502200289824\n",
            "Epoch: 43, Loss: 0.041179131485400526\n",
            "Epoch: 44, Loss: 0.0427072284930958\n",
            "Epoch: 45, Loss: 0.04332048293446618\n",
            "Epoch: 46, Loss: 0.04249490756728725\n",
            "Epoch: 47, Loss: 0.03783831271517071\n",
            "Epoch: 48, Loss: 0.03573947234251682\n",
            "Epoch: 49, Loss: 0.03894525311604957\n",
            "Epoch: 50, Loss: 0.037784082922837116\n",
            "Epoch: 51, Loss: 0.033771483847531876\n",
            "Epoch: 52, Loss: 0.03253259861069091\n",
            "Epoch: 53, Loss: 0.03439055740886882\n",
            "Epoch: 54, Loss: 0.03237423023423859\n",
            "Epoch: 55, Loss: 0.03485287352184241\n",
            "Epoch: 56, Loss: 0.031997321906572326\n",
            "Epoch: 57, Loss: 0.030987223567528418\n",
            "Epoch: 58, Loss: 0.030222873488781866\n",
            "Epoch: 59, Loss: 0.02606237865534058\n",
            "Epoch: 60, Loss: 0.03158001657624391\n",
            "Epoch: 61, Loss: 0.029142888426174976\n",
            "Epoch: 62, Loss: 0.028391171850703056\n",
            "Epoch: 63, Loss: 0.026364216235100078\n",
            "Epoch: 64, Loss: 0.03025848417963425\n",
            "Epoch: 65, Loss: 0.026093158128413656\n",
            "Epoch: 66, Loss: 0.021734767509334233\n",
            "Epoch: 67, Loss: 0.0293079739025355\n",
            "Epoch: 68, Loss: 0.025645798734027267\n",
            "Epoch: 69, Loss: 0.023841001953234808\n",
            "Epoch: 70, Loss: 0.026300484231548276\n",
            "Epoch: 71, Loss: 0.02440586667521408\n",
            "Epoch: 72, Loss: 0.024079852408813166\n",
            "Epoch: 73, Loss: 0.023514136208950126\n",
            "Epoch: 74, Loss: 0.02215751791241852\n",
            "Epoch: 75, Loss: 0.022294241796556282\n",
            "Epoch: 76, Loss: 0.020878350680912264\n",
            "Epoch: 77, Loss: 0.02366937972293211\n",
            "Epoch: 78, Loss: 0.019891885484641384\n",
            "Epoch: 79, Loss: 0.021029538105671843\n",
            "Epoch: 80, Loss: 0.018968660710858783\n",
            "Epoch: 81, Loss: 0.020312820124190695\n",
            "Epoch: 82, Loss: 0.01902460210336191\n",
            "Epoch: 83, Loss: 0.021188529324915484\n",
            "Epoch: 84, Loss: 0.021594248026684\n",
            "Epoch: 85, Loss: 0.01836723731922757\n",
            "Epoch: 86, Loss: 0.018561822979503026\n",
            "Epoch: 87, Loss: 0.019713396033992466\n",
            "Epoch: 88, Loss: 0.016247919473046445\n",
            "Epoch: 89, Loss: 0.02007932471718353\n",
            "Epoch: 90, Loss: 0.01952839101924413\n",
            "Epoch: 91, Loss: 0.01725050428103562\n",
            "Epoch: 92, Loss: 0.015967588550141916\n",
            "Epoch: 93, Loss: 0.01829690100686033\n",
            "Epoch: 94, Loss: 0.017672961650216014\n",
            "Epoch: 95, Loss: 0.016609533832684976\n",
            "Epoch: 96, Loss: 0.016614546079461737\n",
            "Epoch: 97, Loss: 0.01804436892302859\n",
            "Epoch: 98, Loss: 0.015915792248600458\n",
            "Epoch: 99, Loss: 0.015520983963063372\n",
            "Epoch: 100, Loss: 0.012574324753771104\n"
          ]
        }
      ]
    },
    {
      "cell_type": "code",
      "source": [
        "model.eval()"
      ],
      "metadata": {
        "colab": {
          "base_uri": "https://localhost:8080/"
        },
        "id": "C-yZLI1T33Ct",
        "outputId": "fa6976ce-80ad-413e-cce4-e00d6737770a"
      },
      "execution_count": 41,
      "outputs": [
        {
          "output_type": "execute_result",
          "data": {
            "text/plain": [
              "MyNN(\n",
              "  (features): Sequential(\n",
              "    (0): Conv2d(1, 32, kernel_size=(3, 3), stride=(1, 1), padding=same)\n",
              "    (1): ReLU()\n",
              "    (2): BatchNorm2d(32, eps=1e-05, momentum=0.1, affine=True, track_running_stats=True)\n",
              "    (3): MaxPool2d(kernel_size=2, stride=2, padding=0, dilation=1, ceil_mode=False)\n",
              "    (4): Conv2d(32, 64, kernel_size=(3, 3), stride=(1, 1), padding=same)\n",
              "    (5): ReLU()\n",
              "    (6): BatchNorm2d(64, eps=1e-05, momentum=0.1, affine=True, track_running_stats=True)\n",
              "    (7): MaxPool2d(kernel_size=2, stride=2, padding=0, dilation=1, ceil_mode=False)\n",
              "  )\n",
              "  (classifier): Sequential(\n",
              "    (0): Flatten(start_dim=1, end_dim=-1)\n",
              "    (1): Linear(in_features=3136, out_features=128, bias=True)\n",
              "    (2): ReLU()\n",
              "    (3): Dropout(p=0.4, inplace=False)\n",
              "    (4): Linear(in_features=128, out_features=64, bias=True)\n",
              "    (5): ReLU()\n",
              "    (6): Dropout(p=0.4, inplace=False)\n",
              "    (7): Linear(in_features=64, out_features=10, bias=True)\n",
              "  )\n",
              ")"
            ]
          },
          "metadata": {},
          "execution_count": 41
        }
      ]
    },
    {
      "cell_type": "code",
      "source": [
        "len(test_loader)"
      ],
      "metadata": {
        "colab": {
          "base_uri": "https://localhost:8080/"
        },
        "id": "A-MhuwIw43tH",
        "outputId": "5d02c9f0-f8b0-4376-9a09-cca0beb9f4cc"
      },
      "execution_count": null,
      "outputs": [
        {
          "output_type": "execute_result",
          "data": {
            "text/plain": [
              "188"
            ]
          },
          "metadata": {},
          "execution_count": 50
        }
      ]
    },
    {
      "cell_type": "code",
      "source": [
        "# evaluation code\n",
        "\n",
        "total = 0\n",
        "correct = 0\n",
        "\n",
        "with torch.no_grad():\n",
        "  for batch_features, batch_labels in test_loader:\n",
        "\n",
        "    batch_features = batch_features.to(device)\n",
        "    batch_labels = batch_labels.to(device)\n",
        "\n",
        "    outputs = model(batch_features)\n",
        "    _, predicted = torch.max(outputs, 1)\n",
        "    total = total + batch_labels.shape[0]\n",
        "    correct = correct + (predicted == batch_labels).sum().item()\n",
        "\n",
        "print(f\"Accuracy on test: {correct/total}\")\n",
        "\n",
        "# evaluation on training data\n",
        "\n",
        "total = 0\n",
        "correct = 0\n",
        "\n",
        "with torch.no_grad():\n",
        "  for batch_features, batch_labels in train_loader:\n",
        "\n",
        "    batch_features = batch_features.to(device)\n",
        "    batch_labels = batch_labels.to(device)\n",
        "\n",
        "    outputs = model(batch_features)\n",
        "    _, predicted = torch.max(outputs, 1)\n",
        "    total = total + batch_labels.shape[0]\n",
        "    correct = correct + (predicted == batch_labels).sum().item()\n",
        "\n",
        "print(f\"Accuracy on train: {correct/total}\")"
      ],
      "metadata": {
        "colab": {
          "base_uri": "https://localhost:8080/"
        },
        "id": "wcs9rXv_4DXE",
        "outputId": "6c3481cd-a3a6-4b3d-c65b-2a3f974694f6"
      },
      "execution_count": 43,
      "outputs": [
        {
          "output_type": "stream",
          "name": "stdout",
          "text": [
            "Accuracy on test: 0.9233333333333333\n",
            "Accuracy on train: 0.9995833333333334\n"
          ]
        }
      ]
    }
  ]
}